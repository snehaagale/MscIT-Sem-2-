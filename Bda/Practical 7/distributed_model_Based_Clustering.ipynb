{
  "nbformat": 4,
  "nbformat_minor": 0,
  "metadata": {
    "colab": {
      "name": "distributed model Based Clustering.ipynb",
      "provenance": [],
      "authorship_tag": "ABX9TyO/1zjBVeDzZm4a1cfkD3+6",
      "include_colab_link": true
    },
    "kernelspec": {
      "name": "python3",
      "display_name": "Python 3"
    },
    "language_info": {
      "name": "python"
    }
  },
  "cells": [
    {
      "cell_type": "markdown",
      "metadata": {
        "id": "view-in-github",
        "colab_type": "text"
      },
      "source": [
        "<a href=\"https://colab.research.google.com/github/siu1997/Big-Data-Analytics/blob/main/Practical%207/distributed_model_Based_Clustering.ipynb\" target=\"_parent\"><img src=\"https://colab.research.google.com/assets/colab-badge.svg\" alt=\"Open In Colab\"/></a>"
      ]
    },
    {
      "cell_type": "markdown",
      "metadata": {
        "id": "K19IpIZw4Rjn"
      },
      "source": [
        "#Distributed Model Based Clustering"
      ]
    },
    {
      "cell_type": "code",
      "metadata": {
        "id": "lyB2wAwD4RJs"
      },
      "source": [
        "import pandas as pd\n",
        "import matplotlib.pyplot as plt"
      ],
      "execution_count": 8,
      "outputs": []
    },
    {
      "cell_type": "code",
      "metadata": {
        "colab": {
          "base_uri": "https://localhost:8080/"
        },
        "id": "IXXLTIUC5gaZ",
        "outputId": "d700728a-0c3a-4368-85c8-12c70bd298c8"
      },
      "source": [
        "from google.colab import drive\n",
        "drive.mount('/content/drive')"
      ],
      "execution_count": 17,
      "outputs": [
        {
          "output_type": "stream",
          "text": [
            "Drive already mounted at /content/drive; to attempt to forcibly remount, call drive.mount(\"/content/drive\", force_remount=True).\n"
          ],
          "name": "stdout"
        }
      ]
    },
    {
      "cell_type": "code",
      "metadata": {
        "id": "JTK2Bq8K5pkL"
      },
      "source": [
        "Location=\"drive/My Drive/Dataset\""
      ],
      "execution_count": 22,
      "outputs": []
    },
    {
      "cell_type": "code",
      "metadata": {
        "id": "Pe9fBdXw6n5e"
      },
      "source": [
        "df=pd.read_csv(Location+ \"/Clustering_gmm.csv\")"
      ],
      "execution_count": 23,
      "outputs": []
    },
    {
      "cell_type": "code",
      "metadata": {
        "colab": {
          "base_uri": "https://localhost:8080/",
          "height": 203
        },
        "id": "bqfbL4eF69K2",
        "outputId": "2e9e6e65-2c8c-4fc6-c871-bc7301802bbd"
      },
      "source": [
        "df.head()"
      ],
      "execution_count": 24,
      "outputs": [
        {
          "output_type": "execute_result",
          "data": {
            "text/html": [
              "<div>\n",
              "<style scoped>\n",
              "    .dataframe tbody tr th:only-of-type {\n",
              "        vertical-align: middle;\n",
              "    }\n",
              "\n",
              "    .dataframe tbody tr th {\n",
              "        vertical-align: top;\n",
              "    }\n",
              "\n",
              "    .dataframe thead th {\n",
              "        text-align: right;\n",
              "    }\n",
              "</style>\n",
              "<table border=\"1\" class=\"dataframe\">\n",
              "  <thead>\n",
              "    <tr style=\"text-align: right;\">\n",
              "      <th></th>\n",
              "      <th>Weight</th>\n",
              "      <th>Height</th>\n",
              "    </tr>\n",
              "  </thead>\n",
              "  <tbody>\n",
              "    <tr>\n",
              "      <th>0</th>\n",
              "      <td>67.062924</td>\n",
              "      <td>176.086355</td>\n",
              "    </tr>\n",
              "    <tr>\n",
              "      <th>1</th>\n",
              "      <td>68.804094</td>\n",
              "      <td>178.388669</td>\n",
              "    </tr>\n",
              "    <tr>\n",
              "      <th>2</th>\n",
              "      <td>60.930863</td>\n",
              "      <td>170.284496</td>\n",
              "    </tr>\n",
              "    <tr>\n",
              "      <th>3</th>\n",
              "      <td>59.733843</td>\n",
              "      <td>168.691992</td>\n",
              "    </tr>\n",
              "    <tr>\n",
              "      <th>4</th>\n",
              "      <td>65.431230</td>\n",
              "      <td>173.763679</td>\n",
              "    </tr>\n",
              "  </tbody>\n",
              "</table>\n",
              "</div>"
            ],
            "text/plain": [
              "      Weight      Height\n",
              "0  67.062924  176.086355\n",
              "1  68.804094  178.388669\n",
              "2  60.930863  170.284496\n",
              "3  59.733843  168.691992\n",
              "4  65.431230  173.763679"
            ]
          },
          "metadata": {
            "tags": []
          },
          "execution_count": 24
        }
      ]
    },
    {
      "cell_type": "code",
      "metadata": {
        "colab": {
          "base_uri": "https://localhost:8080/",
          "height": 458
        },
        "id": "neUUowvP7j00",
        "outputId": "e19f01e0-2eaf-4709-ddc4-9a480734c201"
      },
      "source": [
        "plt.figure(figsize=(7,7))\n",
        "plt.scatter(df[\"Weight\"],df[\"Height\"])\n",
        "plt.xlabel('Weight')\n",
        "plt.ylabel('Height')\n",
        "plt.title('Data Distribution')\n",
        "plt.show()"
      ],
      "execution_count": 26,
      "outputs": [
        {
          "output_type": "display_data",
          "data": {
            "image/png": "[encoded data removed]",
            "text/plain": [
              "<Figure size 504x504 with 1 Axes>"
            ]
          },
          "metadata": {
            "tags": [],
            "needs_background": "light"
          }
        }
      ]
    },
    {
      "cell_type": "markdown",
      "metadata": {
        "id": "7hd6d-O0AQkR"
      },
      "source": [
        "Building a Gaussian mixture on same dataset"
      ]
    },
    {
      "cell_type": "code",
      "metadata": {
        "colab": {
          "base_uri": "https://localhost:8080/",
          "height": 265
        },
        "id": "3c28C5vZ_3-L",
        "outputId": "292ac4aa-203f-4f0c-a6c4-53c09fe1f0ad"
      },
      "source": [
        "# training gaussian mixture model \n",
        "import pandas as pd\n",
        "import matplotlib.pyplot as plt\n",
        "from sklearn.mixture import GaussianMixture\n",
        "\n",
        "df=pd.read_csv(Location+ \"/Clustering_gmm.csv\")\n",
        "gmm = GaussianMixture(n_components=4)\n",
        "gmm.fit(df)\n",
        "\n",
        "#predictions from gmm\n",
        "labels = gmm.predict(df)\n",
        "frame = pd.DataFrame(df)\n",
        "frame['cluster'] = labels\n",
        "frame.columns = ['Weight', 'Height', 'cluster']\n",
        "\n",
        "color=['blue','green','cyan', 'black']\n",
        "for k in range(0,4):\n",
        "  df = frame[frame[\"cluster\"]==k]\n",
        "  plt.scatter(df[\"Weight\"],df[\"Height\"],c=color[k])\n",
        "plt.show()"
      ],
      "execution_count": 30,
      "outputs": [
        {
          "output_type": "display_data",
          "data": {
            "image/png": "[encoded data removed]",
            "text/plain": [
              "<Figure size 432x288 with 1 Axes>"
            ]
          },
          "metadata": {
            "tags": [],
            "needs_background": "light"
          }
        }
      ]
    },
    {
      "cell_type": "code",
      "metadata": {
        "id": "sOVrDqvfAFK2"
      },
      "source": [
        ""
      ],
      "execution_count": null,
      "outputs": []
    }
  ]
}